{
 "cells": [
  {
   "cell_type": "code",
   "execution_count": 26,
   "metadata": {},
   "outputs": [],
   "source": [
    "import math"
   ]
  },
  {
   "cell_type": "markdown",
   "metadata": {},
   "source": [
    "### **Exercise 1:**\n",
    "The Recamán sequence is a famous sequence invented by the Colombian mathematician, Bernardo Recamán Santos. It is defined by the following algorithm, starting at $a_0=0$:\n",
    "\n",
    "$ a_n=a_{n-1}−n$ if $a_{n-1}-n > 0  $ and has not already appeared in the sequence; \n",
    "\n",
    "$ a_n=a_{n−1}+n$ otherwise\n",
    "\n",
    "Write a function that returns the first N elements of this sequence."
   ]
  },
  {
   "cell_type": "code",
   "execution_count": 84,
   "metadata": {},
   "outputs": [
    {
     "data": {
      "text/plain": [
       "[0, 1, 3, 6, 2, 7, 13, 20, 12, 21, 11]"
      ]
     },
     "execution_count": 84,
     "metadata": {},
     "output_type": "execute_result"
    }
   ],
   "source": [
    "def recaman(N):\n",
    "    rec = [0]\n",
    "    i = 1\n",
    "    while (i < N+1):\n",
    "        a = rec[i-1] - i  \n",
    "        if (a > 0) and (a not in rec):\n",
    "            rec.append(a)  \n",
    "        else: \n",
    "            rec.append(rec[i-1] + i ) \n",
    "        i = i + 1\n",
    "    return rec\n",
    "\n",
    "recaman(10)"
   ]
  },
  {
   "cell_type": "markdown",
   "metadata": {},
   "source": [
    "### **Exercise 2:**\n",
    "Write a function to solve a quadratic equation."
   ]
  },
  {
   "cell_type": "code",
   "execution_count": 8,
   "metadata": {},
   "outputs": [
    {
     "data": {
      "text/plain": [
       "(0.9067177514850918, -2.5733844181517584)"
      ]
     },
     "execution_count": 8,
     "metadata": {},
     "output_type": "execute_result"
    }
   ],
   "source": [
    "def quadsolve(a,b,c):  # must be of the form ax^2+bx+c = 0\n",
    "     sol1 = (-b + math.sqrt(b**2-4*a*c))/(2*a) \n",
    "     sol2 = (-b - math.sqrt(b**2-4*a*c))/(2*a) \n",
    "\n",
    "     return sol1,sol2\n",
    "quadsolve(3,5,-7)"
   ]
  },
  {
   "cell_type": "markdown",
   "metadata": {},
   "source": [
    "### **Exercise 3**\n",
    "Print the list `mylist` sorted in descending order. The original list should not be modified\n"
   ]
  },
  {
   "cell_type": "code",
   "execution_count": 25,
   "metadata": {},
   "outputs": [
    {
     "data": {
      "text/plain": [
       "[234, 89, 77, 11, 1, 0, -99, -748]"
      ]
     },
     "execution_count": 25,
     "metadata": {},
     "output_type": "execute_result"
    }
   ],
   "source": [
    "mylist=[1,-99,89,0,234,77,-748,11]\n",
    "\n",
    "sorted(mylist,reverse=1)"
   ]
  },
  {
   "cell_type": "markdown",
   "metadata": {},
   "source": [
    "### **Exercise 4:**\n",
    "Given 2 lists, produce a list containing common items between the two."
   ]
  },
  {
   "cell_type": "code",
   "execution_count": 117,
   "metadata": {},
   "outputs": [
    {
     "data": {
      "text/plain": [
       "[2, 4, 6, 8, 10]"
      ]
     },
     "execution_count": 117,
     "metadata": {},
     "output_type": "execute_result"
    }
   ],
   "source": [
    "lists1 = [1,2,3,4,5,6,7,8,9,10]\n",
    "lists2 = [2,4,6,8,10,12]\n",
    "\n",
    "list(set(lists1).intersection(lists2))"
   ]
  },
  {
   "cell_type": "markdown",
   "metadata": {},
   "source": [
    "### **Exercise 5:**\n",
    "Create a function that returns a list of all pairs of factors (as tuples) of a given number using list comprehension."
   ]
  },
  {
   "cell_type": "code",
   "execution_count": 114,
   "metadata": {},
   "outputs": [
    {
     "data": {
      "text/plain": [
       "[(1, 144), (2, 72), (3, 48), (4, 36), (6, 24), (8, 18), (9, 16), (12, 12)]"
      ]
     },
     "execution_count": 114,
     "metadata": {},
     "output_type": "execute_result"
    }
   ],
   "source": [
    "N = 144\n",
    "[(i,N//i)  for i in range(1,math.floor(math.sqrt(N))+1) if N%i==0]"
   ]
  },
  {
   "cell_type": "markdown",
   "metadata": {},
   "source": [
    "### **Exercise 6:**\n",
    "Create a list of all numbers divisible by 3 and smaller than 1000 in 4 different ways:\n",
    " \n",
    " - naive way where you just create a list and append data in a loop\n",
    " - using list comprehension\n",
    " - slicing an existing list\n",
    " - directly with `range()`\n",
    "\n",
    "Time all of them."
   ]
  },
  {
   "cell_type": "code",
   "execution_count": 101,
   "metadata": {},
   "outputs": [
    {
     "name": "stdout",
     "output_type": "stream",
     "text": [
      "2.1 µs ± 442 ns per loop (mean ± std. dev. of 7 runs, 1,000,000 loops each)\n",
      "1.34 µs ± 48.8 ns per loop (mean ± std. dev. of 7 runs, 1,000,000 loops each)\n",
      "200 ns ± 8.66 ns per loop (mean ± std. dev. of 7 runs, 10,000,000 loops each)\n",
      "598 ns ± 23.3 ns per loop (mean ± std. dev. of 7 runs, 1,000,000 loops each)\n"
     ]
    }
   ],
   "source": [
    "N = 1000\n",
    "# naive way\n",
    "lists_naive = []\n",
    "%timeit for i in range(3,N,3): lists_naive.append(i)\n",
    "\n",
    "# list comprehension \n",
    "%timeit lists_compre = [i for i in range(3,N,3)]\n",
    "\n",
    "#slicing an existing list\n",
    "lists = list(range(1,N))\n",
    "%timeit lists_slice = lists[2:N:3]\n",
    "\n",
    "#directly with range\n",
    "%timeit lists_range = list(range(3,N,3))"
   ]
  },
  {
   "cell_type": "markdown",
   "metadata": {},
   "source": [
    "### **Exercise 7:**\n",
    "Write a function to check if a string (containing spaces and capital letters, but no punctuation marks) is a palindrome (use help to see which functions are available for a string). \n"
   ]
  },
  {
   "cell_type": "code",
   "execution_count": 85,
   "metadata": {},
   "outputs": [
    {
     "data": {
      "text/plain": [
       "'Rotatoz is a not palindrome'"
      ]
     },
     "execution_count": 85,
     "metadata": {},
     "output_type": "execute_result"
    }
   ],
   "source": [
    "def palindrome(string):\n",
    "    processed_string = string.strip().replace(\" \", \"\").lower()\n",
    "    new_string = ''\n",
    "    for i in range(len(processed_string)-1,-1,-1):\n",
    "        new_string += processed_string[i]\n",
    "\n",
    "    if processed_string  == new_string:\n",
    "        return f\"{string} is a palindrome\"\n",
    "    else:\n",
    "        return f\"{string} is a not palindrome\"\n",
    "\n",
    "palindrome(\"Rotatoz\")"
   ]
  },
  {
   "cell_type": "markdown",
   "metadata": {},
   "source": [
    "### **Exercise 8:**\n",
    "Write a function to find a character with a maximum number of occurences in a string. Return a tuple with that character and the number. You can ignore ties. Only use string's inbuilt functions and the function `max` (use help to see how to use it)."
   ]
  },
  {
   "cell_type": "code",
   "execution_count": 53,
   "metadata": {},
   "outputs": [
    {
     "data": {
      "text/plain": [
       "('s', 5)"
      ]
     },
     "execution_count": 53,
     "metadata": {},
     "output_type": "execute_result"
    }
   ],
   "source": [
    "def max_char(string):\n",
    "    char_freq={}\n",
    "\n",
    "    for i in string:\n",
    "        if i in char_freq:\n",
    "            char_freq[i]=char_freq[i]+1\n",
    "        else:\n",
    "            char_freq[i] = 1\n",
    "    result= max(char_freq, key = char_freq.get)\n",
    "    return (result, char_freq[result])\n",
    "\n",
    "max_char(\"mississippis\")"
   ]
  },
  {
   "cell_type": "markdown",
   "metadata": {},
   "source": [
    "### **Exercise 9:**\n",
    "Write a function that return the first N prime numbers using the Sieve of Eratosphenes algorithm\n",
    "\n",
    "https://en.wikipedia.org/wiki/Sieve_of_Eratosthenes"
   ]
  },
  {
   "cell_type": "code",
   "execution_count": null,
   "metadata": {},
   "outputs": [],
   "source": [
    "N = 128\n",
    "nums = list(range(2,N+1))\n",
    "i = 0           # index position\n",
    "while nums[i]**2 <= N:\n",
    "    p = nums[i]     # set ith index to be a prime\n",
    "    for j in range(p+p,N+1,p):\n",
    "        if j in nums: nums.remove(j)    # remove all multiples of p\n",
    "    i+= 1       # go to the next prime\n",
    "nums"
   ]
  },
  {
   "cell_type": "code",
   "execution_count": null,
   "metadata": {},
   "outputs": [],
   "source": []
  }
 ],
 "metadata": {
  "kernelspec": {
   "display_name": "ictp_sp",
   "language": "python",
   "name": "python3"
  },
  "language_info": {
   "codemirror_mode": {
    "name": "ipython",
    "version": 3
   },
   "file_extension": ".py",
   "mimetype": "text/x-python",
   "name": "python",
   "nbconvert_exporter": "python",
   "pygments_lexer": "ipython3",
   "version": "3.11.7"
  }
 },
 "nbformat": 4,
 "nbformat_minor": 4
}
